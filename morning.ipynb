{
 "cells": [
  {
   "cell_type": "code",
   "execution_count": 8,
   "metadata": {},
   "outputs": [],
   "source": [
    "import sqlite3\n",
    "import pickle\n",
    "import pandas as pd"
   ]
  },
  {
   "cell_type": "code",
   "execution_count": 9,
   "metadata": {},
   "outputs": [],
   "source": [
    "shutuba_table = pd.read_pickle(\"syutuba_table_test.pickle\")\n",
    "shutuba_table.drop(columns=['斤量','jockey_id', 'trainer_id', 'トレーナー名', '体重'\\\n",
    "                            , '体重変化', 'n_horses', 'course_len', 'weather' \\\n",
    "                            , 'race_type', 'ground_state', 'around'], inplace=True)"
   ]
  },
  {
   "cell_type": "code",
   "execution_count": 10,
   "metadata": {},
   "outputs": [],
   "source": [
    "location = {'01' : '札幌',\n",
    "             '02' : '函館',\n",
    "             '03' : '福島',\n",
    "             '04' : '新潟',\n",
    "             '05' : '東京',\n",
    "             '06' : '中山',\n",
    "             '07' : '中京' ,\n",
    "             '08' : '京都',\n",
    "             '09' : '阪神',\n",
    "             '10' : '小倉', }"
   ]
  },
  {
   "cell_type": "code",
   "execution_count": 11,
   "metadata": {},
   "outputs": [],
   "source": [
    "shutuba_table = shutuba_table.astype(str) # 全体を文字列に\n",
    "shutuba_table.reset_index(inplace=True)\n",
    "shutuba_table = shutuba_table.rename(columns={'index': 'race_id'}) # インデックスを列に\n",
    "shutuba_table['race_num'] = shutuba_table['race_id'].str[-2:] # race_num列を追加\n",
    "shutuba_table['開催'] = shutuba_table['開催'].replace(location) # 開催地をIDから地名"
   ]
  },
  {
   "cell_type": "code",
   "execution_count": 12,
   "metadata": {},
   "outputs": [
    {
     "name": "stdout",
     "output_type": "stream",
     "text": [
      "         race_id 枠番  馬番    単勝    horse_id        馬名   騎手名  性 年齢        date  \\\n",
      "0   202302020511  1   1   6.5  2021100359  スカイキャンバス   横山武  牝  2  2023-07-15   \n",
      "1   202302020511  2   2   5.8  2021106655   ロータスワンド   藤岡佑  牝  2  2023-07-15   \n",
      "2   202302020511  2   3  45.4  2021103859    チークタイム   和田竜  牝  2  2023-07-15   \n",
      "3   202302020511  3   4  54.7  2021100527   タヤスロンドン    丹内  牡  2  2023-07-15   \n",
      "4   202302020511  3   5  20.2  2021101703  ナスティウェザー    富田  牡  2  2023-07-15   \n",
      "5   202302020511  4   6   5.7  2021105668   バスターコール  ルメール  牡  2  2023-07-15   \n",
      "6   202302020511  4   7  13.6  2021100356   クールベイビー   佐々木  牝  2  2023-07-15   \n",
      "7   202302020511  5   8  75.5  2021103325   カレンナオトメ     黛  牝  2  2023-07-15   \n",
      "8   202302020511  5   9  13.9  2021102392       ナナオ   西村淳  牝  2  2023-07-15   \n",
      "9   202302020511  6  10  39.7  2021100653       アガシ    武豊  牡  2  2023-07-15   \n",
      "10  202302020511  6  11  67.0  2021102254     コルルディ   鮫島駿  牝  2  2023-07-15   \n",
      "11  202302020511  7  12  14.4  2021102775   レガテアドール    斎藤  牡  2  2023-07-15   \n",
      "12  202302020511  7  13   3.9  2021103273   ベルパッション    松田  牝  2  2023-07-15   \n",
      "13  202302020511  8  14  23.9  2021105312  ルージュレベッカ   横山和  牝  2  2023-07-15   \n",
      "14  202302020511  8  15  29.8  2021103080    ゼルトザーム    浜中  牡  2  2023-07-15   \n",
      "\n",
      "   race_class race_name  開催 race_num  \n",
      "0          G3     函館2歳S  函館       11  \n",
      "1          G3     函館2歳S  函館       11  \n",
      "2          G3     函館2歳S  函館       11  \n",
      "3          G3     函館2歳S  函館       11  \n",
      "4          G3     函館2歳S  函館       11  \n",
      "5          G3     函館2歳S  函館       11  \n",
      "6          G3     函館2歳S  函館       11  \n",
      "7          G3     函館2歳S  函館       11  \n",
      "8          G3     函館2歳S  函館       11  \n",
      "9          G3     函館2歳S  函館       11  \n",
      "10         G3     函館2歳S  函館       11  \n",
      "11         G3     函館2歳S  函館       11  \n",
      "12         G3     函館2歳S  函館       11  \n",
      "13         G3     函館2歳S  函館       11  \n",
      "14         G3     函館2歳S  函館       11  \n"
     ]
    }
   ],
   "source": [
    "print(shutuba_table)"
   ]
  },
  {
   "cell_type": "code",
   "execution_count": 29,
   "metadata": {},
   "outputs": [],
   "source": [
    "conn = sqlite3.connect('races.sqlite')\n",
    "cursor = conn.cursor()"
   ]
  },
  {
   "cell_type": "markdown",
   "metadata": {},
   "source": [
    "******************"
   ]
  },
  {
   "cell_type": "markdown",
   "metadata": {},
   "source": [
    "racesテーブル"
   ]
  },
  {
   "cell_type": "code",
   "execution_count": 15,
   "metadata": {},
   "outputs": [],
   "source": [
    "race_table = shutuba_table.drop_duplicates(subset='race_id')[['race_id', 'date', 'race_name', 'race_num', '開催']]"
   ]
  },
  {
   "cell_type": "code",
   "execution_count": 16,
   "metadata": {},
   "outputs": [],
   "source": [
    "race_table.rename(columns={'race_id' : 'id', \n",
    "                           'race_name' : 'name',\n",
    "                           'race_num' : 'number',\n",
    "                           '開催' : 'location'}, \n",
    "                  inplace=True)"
   ]
  },
  {
   "cell_type": "code",
   "execution_count": 17,
   "metadata": {},
   "outputs": [
    {
     "name": "stdout",
     "output_type": "stream",
     "text": [
      "             id        date   name number location\n",
      "0  202302020511  2023-07-15  函館2歳S     11       函館\n"
     ]
    }
   ],
   "source": [
    "print(race_table)"
   ]
  },
  {
   "cell_type": "code",
   "execution_count": 18,
   "metadata": {},
   "outputs": [
    {
     "data": {
      "text/plain": [
       "1"
      ]
     },
     "execution_count": 18,
     "metadata": {},
     "output_type": "execute_result"
    }
   ],
   "source": [
    "race_table.to_sql('races', conn, if_exists='append', index=None)"
   ]
  },
  {
   "cell_type": "markdown",
   "metadata": {},
   "source": [
    "*************"
   ]
  },
  {
   "cell_type": "markdown",
   "metadata": {},
   "source": [
    "horsesテーブル"
   ]
  },
  {
   "cell_type": "code",
   "execution_count": 19,
   "metadata": {},
   "outputs": [],
   "source": [
    "horse_table = shutuba_table.drop_duplicates(subset='horse_id')[['horse_id', '馬名', '年齢', '性']]"
   ]
  },
  {
   "cell_type": "code",
   "execution_count": 20,
   "metadata": {},
   "outputs": [],
   "source": [
    "horse_table.rename(columns={'horse_id' : 'id', \n",
    "                           '馬名' : 'name',\n",
    "                           '年齢' : 'age',\n",
    "                           '性' : 'gender'}, \n",
    "                  inplace=True)"
   ]
  },
  {
   "cell_type": "code",
   "execution_count": 21,
   "metadata": {},
   "outputs": [],
   "source": [
    "old = pd.read_sql_query(\"SELECT id FROM horses\", conn)  # 登録済みのidを取得\n",
    "mask = ~horse_table.iloc[:, 0].isin(old.iloc[:, 0])\n",
    "new_horse_table = horse_table[mask]"
   ]
  },
  {
   "cell_type": "code",
   "execution_count": 22,
   "metadata": {},
   "outputs": [
    {
     "data": {
      "text/plain": [
       "15"
      ]
     },
     "execution_count": 22,
     "metadata": {},
     "output_type": "execute_result"
    }
   ],
   "source": [
    "new_horse_table.to_sql('horses', conn, if_exists='append', index=None)"
   ]
  },
  {
   "cell_type": "markdown",
   "metadata": {},
   "source": [
    "**************"
   ]
  },
  {
   "cell_type": "markdown",
   "metadata": {},
   "source": [
    "runnersテーブル"
   ]
  },
  {
   "cell_type": "code",
   "execution_count": 23,
   "metadata": {},
   "outputs": [],
   "source": [
    "runner_table = shutuba_table[['race_id', '馬番', '枠番', '騎手名', '単勝', 'horse_id']].copy()"
   ]
  },
  {
   "cell_type": "code",
   "execution_count": 24,
   "metadata": {},
   "outputs": [],
   "source": [
    "runner_table.rename(columns={'馬番' : 'number', \n",
    "                             '枠番' : 'position',\n",
    "                             '騎手名' : 'jockey',\n",
    "                             '単勝' : 'odds'}, \n",
    "                  inplace=True)"
   ]
  },
  {
   "cell_type": "code",
   "execution_count": 25,
   "metadata": {},
   "outputs": [
    {
     "data": {
      "text/plain": [
       "15"
      ]
     },
     "execution_count": 25,
     "metadata": {},
     "output_type": "execute_result"
    }
   ],
   "source": [
    "runner_table.to_sql('runners', conn, if_exists='append', index=None)"
   ]
  },
  {
   "cell_type": "markdown",
   "metadata": {},
   "source": [
    "**************"
   ]
  },
  {
   "cell_type": "code",
   "execution_count": 32,
   "metadata": {},
   "outputs": [
    {
     "name": "stdout",
     "output_type": "stream",
     "text": [
      "('202302020511', '2023-07-15', '函館2歳S', '11', '函館', None)\n"
     ]
    }
   ],
   "source": [
    "# cursor.execute('SELECT * FROM races')\n",
    "# data = cursor.fetchall()\n",
    "\n",
    "# # データを表示\n",
    "# for row in data:\n",
    "#     print(row)"
   ]
  },
  {
   "cell_type": "code",
   "execution_count": 27,
   "metadata": {},
   "outputs": [],
   "source": [
    "conn.close()"
   ]
  }
 ],
 "metadata": {
  "kernelspec": {
   "display_name": "Python 3",
   "language": "python",
   "name": "python3"
  },
  "language_info": {
   "codemirror_mode": {
    "name": "ipython",
    "version": 3
   },
   "file_extension": ".py",
   "mimetype": "text/x-python",
   "name": "python",
   "nbconvert_exporter": "python",
   "pygments_lexer": "ipython3",
   "version": "3.11.3"
  },
  "orig_nbformat": 4
 },
 "nbformat": 4,
 "nbformat_minor": 2
}
