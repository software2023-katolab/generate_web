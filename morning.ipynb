{
 "cells": [
  {
   "cell_type": "code",
   "execution_count": 21,
   "metadata": {},
   "outputs": [],
   "source": [
    "import sqlite3\n",
    "import pickle\n",
    "import pandas as pd"
   ]
  },
  {
   "cell_type": "code",
   "execution_count": 22,
   "metadata": {},
   "outputs": [],
   "source": [
    "shutuba_table = pd.read_pickle(\"nitiyo_score\")"
   ]
  },
  {
   "cell_type": "code",
   "execution_count": 23,
   "metadata": {},
   "outputs": [],
   "source": [
    "location = {'01' : '札幌',\n",
    "             '02' : '函館',\n",
    "             '03' : '福島',\n",
    "             '04' : '新潟',\n",
    "             '05' : '東京',\n",
    "             '06' : '中山',\n",
    "             '07' : '中京' ,\n",
    "             '08' : '京都',\n",
    "             '09' : '阪神',\n",
    "             '10' : '小倉', }"
   ]
  },
  {
   "cell_type": "code",
   "execution_count": 24,
   "metadata": {},
   "outputs": [],
   "source": [
    "def remove_leading_zero(input_string):\n",
    "    if input_string.startswith('0'):\n",
    "        return str(int(input_string))\n",
    "    else:\n",
    "        return input_string"
   ]
  },
  {
   "cell_type": "code",
   "execution_count": 25,
   "metadata": {},
   "outputs": [],
   "source": [
    "shutuba_table = shutuba_table.astype(str) # 全体を文字列に\n",
    "shutuba_table.reset_index(inplace=True)\n",
    "shutuba_table = shutuba_table.rename(columns={'index': 'race_id'}) # インデックスを列に\n",
    "shutuba_table['race_num'] = shutuba_table['race_id'].str[-2:] # race_num列を追加\n",
    "shutuba_table['race_num'] = shutuba_table['race_num'].apply(remove_leading_zero) # レース番号を0からはじまらないように変更\n",
    "shutuba_table['開催'] = shutuba_table['開催'].replace(location) # 開催地をIDから地名"
   ]
  },
  {
   "cell_type": "code",
   "execution_count": 26,
   "metadata": {},
   "outputs": [],
   "source": [
    "conn = sqlite3.connect('races.sqlite')\n",
    "cursor = conn.cursor()"
   ]
  },
  {
   "cell_type": "code",
   "execution_count": 27,
   "metadata": {},
   "outputs": [],
   "source": [
    "# # テスト用：DBのデータ全削除\n",
    "# cursor.execute('DELETE FROM races')\n",
    "# cursor.execute('DELETE FROM horses')\n",
    "# cursor.execute('DELETE FROM runners')\n",
    "# cursor.execute('DELETE FROM predicts')"
   ]
  },
  {
   "cell_type": "markdown",
   "metadata": {},
   "source": [
    "******************"
   ]
  },
  {
   "cell_type": "markdown",
   "metadata": {},
   "source": [
    "racesテーブル"
   ]
  },
  {
   "cell_type": "code",
   "execution_count": 28,
   "metadata": {},
   "outputs": [],
   "source": [
    "race_table = shutuba_table.drop_duplicates(subset='race_id')[['race_id', 'date', 'race_name', 'race_num', '開催', 'start_time']]"
   ]
  },
  {
   "cell_type": "code",
   "execution_count": 29,
   "metadata": {},
   "outputs": [],
   "source": [
    "race_table.rename(columns={'race_id' : 'id', \n",
    "                           'race_name' : 'name',\n",
    "                           'race_num' : 'number',\n",
    "                           '開催' : 'location',\n",
    "                           'start_time' : 'time'}, \n",
    "                  inplace=True)"
   ]
  },
  {
   "cell_type": "code",
   "execution_count": 30,
   "metadata": {},
   "outputs": [
    {
     "data": {
      "text/plain": [
       "36"
      ]
     },
     "execution_count": 30,
     "metadata": {},
     "output_type": "execute_result"
    }
   ],
   "source": [
    "race_table.to_sql('races', conn, if_exists='append', index=None)"
   ]
  },
  {
   "cell_type": "markdown",
   "metadata": {},
   "source": [
    "*************"
   ]
  },
  {
   "cell_type": "markdown",
   "metadata": {},
   "source": [
    "horsesテーブル"
   ]
  },
  {
   "cell_type": "code",
   "execution_count": 31,
   "metadata": {},
   "outputs": [],
   "source": [
    "horse_table = shutuba_table.drop_duplicates(subset='horse_id')[['horse_id', '馬名', '年齢', '性']]"
   ]
  },
  {
   "cell_type": "code",
   "execution_count": 32,
   "metadata": {},
   "outputs": [],
   "source": [
    "horse_table.rename(columns={'horse_id' : 'id', \n",
    "                           '馬名' : 'name',\n",
    "                           '年齢' : 'age',\n",
    "                           '性' : 'gender'}, \n",
    "                  inplace=True)"
   ]
  },
  {
   "cell_type": "code",
   "execution_count": 33,
   "metadata": {},
   "outputs": [],
   "source": [
    "old = pd.read_sql_query(\"SELECT id FROM horses\", conn)  # 登録済みのidを取得\n",
    "mask = ~horse_table.iloc[:, 0].isin(old.iloc[:, 0])\n",
    "new_horse_table = horse_table[mask]"
   ]
  },
  {
   "cell_type": "code",
   "execution_count": 34,
   "metadata": {},
   "outputs": [
    {
     "data": {
      "text/plain": [
       "489"
      ]
     },
     "execution_count": 34,
     "metadata": {},
     "output_type": "execute_result"
    }
   ],
   "source": [
    "new_horse_table.to_sql('horses', conn, if_exists='append', index=None)"
   ]
  },
  {
   "cell_type": "markdown",
   "metadata": {},
   "source": [
    "**************"
   ]
  },
  {
   "cell_type": "markdown",
   "metadata": {},
   "source": [
    "runnersテーブル"
   ]
  },
  {
   "cell_type": "code",
   "execution_count": 35,
   "metadata": {},
   "outputs": [],
   "source": [
    "runner_table = shutuba_table[['race_id', '馬番', '枠番', '騎手名', '単勝', 'horse_id']].copy()"
   ]
  },
  {
   "cell_type": "code",
   "execution_count": 36,
   "metadata": {},
   "outputs": [],
   "source": [
    "runner_table.rename(columns={'馬番' : 'number', \n",
    "                             '枠番' : 'position',\n",
    "                             '騎手名' : 'jockey',\n",
    "                             '単勝' : 'odds'}, \n",
    "                  inplace=True)"
   ]
  },
  {
   "cell_type": "code",
   "execution_count": 37,
   "metadata": {},
   "outputs": [
    {
     "data": {
      "text/plain": [
       "489"
      ]
     },
     "execution_count": 37,
     "metadata": {},
     "output_type": "execute_result"
    }
   ],
   "source": [
    "runner_table.to_sql('runners', conn, if_exists='append', index=None)"
   ]
  },
  {
   "cell_type": "markdown",
   "metadata": {},
   "source": [
    "**************"
   ]
  },
  {
   "cell_type": "code",
   "execution_count": 38,
   "metadata": {},
   "outputs": [],
   "source": [
    "# cursor.execute('SELECT * FROM runners')\n",
    "# data = cursor.fetchall()\n",
    "\n",
    "# # データを表示\n",
    "# for row in data:\n",
    "#     print(row)"
   ]
  },
  {
   "cell_type": "code",
   "execution_count": 39,
   "metadata": {},
   "outputs": [],
   "source": [
    "conn.close()"
   ]
  }
 ],
 "metadata": {
  "kernelspec": {
   "display_name": "Python 3",
   "language": "python",
   "name": "python3"
  },
  "language_info": {
   "codemirror_mode": {
    "name": "ipython",
    "version": 3
   },
   "file_extension": ".py",
   "mimetype": "text/x-python",
   "name": "python",
   "nbconvert_exporter": "python",
   "pygments_lexer": "ipython3",
   "version": "3.10.5"
  },
  "orig_nbformat": 4
 },
 "nbformat": 4,
 "nbformat_minor": 2
}
