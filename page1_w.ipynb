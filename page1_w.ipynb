{
 "cells": [
  {
   "cell_type": "code",
   "execution_count": 147,
   "metadata": {},
   "outputs": [],
   "source": [
    "import sqlite3\n",
    "import datetime\n",
    "\n",
    "conn = sqlite3.connect('races.sqlite')\n",
    "cursor = conn.cursor()"
   ]
  },
  {
   "cell_type": "code",
   "execution_count": 148,
   "metadata": {},
   "outputs": [],
   "source": [
    "today = datetime.date.today()\n",
    "current_weekday = today.weekday()\n",
    "last_saturday = today - datetime.timedelta(days=current_weekday + 2)\n",
    "last_saturday = last_saturday.strftime('%Y-%m-%d')\n",
    "last_sunday = today - datetime.timedelta(days=current_weekday + 1)\n",
    "last_sunday = last_sunday.strftime('%Y-%m-%d')\n",
    "this_sunday = today + datetime.timedelta(days=6 - current_weekday)\n",
    "this_sunday = this_sunday.strftime('%Y-%m-%d')\n",
    "this_saturday = today + datetime.timedelta(days=5 - current_weekday)\n",
    "this_saturday = this_saturday.strftime('%Y-%m-%d')\n",
    "\n",
    "dates = [last_saturday, last_sunday, this_saturday, this_sunday, ]"
   ]
  },
  {
   "cell_type": "code",
   "execution_count": 149,
   "metadata": {},
   "outputs": [],
   "source": [
    "cursor.execute(\"SELECT * FROM races WHERE date = '\" + last_saturday + \"'\")\n",
    "last_sat_data = cursor.fetchall()\n",
    "cursor.execute(\"SELECT * FROM races WHERE date = '\" + last_sunday + \"'\")\n",
    "last_sun_data = cursor.fetchall()\n",
    "cursor.execute(\"SELECT * FROM races WHERE date = '\" + this_saturday + \"'\")\n",
    "this_sat_data = cursor.fetchall()\n",
    "cursor.execute(\"SELECT * FROM races WHERE date = '\" + this_sunday + \"'\")\n",
    "this_sun_data = cursor.fetchall()"
   ]
  },
  {
   "cell_type": "code",
   "execution_count": 150,
   "metadata": {},
   "outputs": [
    {
     "name": "stdout",
     "output_type": "stream",
     "text": [
      "['京都', '大阪', '東京']\n"
     ]
    }
   ],
   "source": [
    "column_5 = list(set(row[4] for row in last_sat_data))\n",
    "print(column_5)"
   ]
  },
  {
   "cell_type": "code",
   "execution_count": 151,
   "metadata": {},
   "outputs": [
    {
     "name": "stdout",
     "output_type": "stream",
     "text": [
      "(1, '2023-07-01', '加藤杯', 1, '東京')\n",
      "(2, '2023-07-01', '3歳未勝利', 2, '東京')\n",
      "(3, '2023-07-01', '1勝クラス', 3, '東京')\n",
      "(4, '2023-07-01', '3歳未勝利', 4, '東京')\n",
      "(5, '2023-07-01', '加藤杯', 5, '東京')\n",
      "(6, '2023-07-01', 'G1', 6, '東京')\n",
      "(7, '2023-07-01', 'G1', 7, '東京')\n",
      "(8, '2023-07-01', '3歳未勝利', 8, '東京')\n",
      "(9, '2023-07-01', '3歳未勝利', 9, '東京')\n",
      "(10, '2023-07-01', '3歳未勝利', 10, '東京')\n",
      "(11, '2023-07-01', 'G1', 11, '東京')\n",
      "(12, '2023-07-01', '3歳未勝利', 12, '東京')\n",
      "(13, '2023-07-01', '1勝クラス', 1, '大阪')\n",
      "(14, '2023-07-01', '1勝クラス', 2, '大阪')\n",
      "(15, '2023-07-01', '1勝クラス', 3, '大阪')\n",
      "(16, '2023-07-01', '3歳未勝利', 4, '大阪')\n",
      "(17, '2023-07-01', '3歳未勝利', 5, '大阪')\n",
      "(18, '2023-07-01', '加藤杯', 6, '大阪')\n",
      "(19, '2023-07-01', '1勝クラス', 7, '大阪')\n",
      "(20, '2023-07-01', '加藤杯', 8, '大阪')\n",
      "(21, '2023-07-01', '1勝クラス', 9, '大阪')\n",
      "(22, '2023-07-01', '1勝クラス', 10, '大阪')\n",
      "(23, '2023-07-01', '1勝クラス', 11, '大阪')\n",
      "(24, '2023-07-01', '加藤杯', 12, '大阪')\n",
      "(25, '2023-07-01', '1勝クラス', 1, '京都')\n",
      "(26, '2023-07-01', '3歳未勝利', 2, '京都')\n",
      "(27, '2023-07-01', '加藤杯', 3, '京都')\n",
      "(28, '2023-07-01', '3歳未勝利', 4, '京都')\n",
      "(29, '2023-07-01', '加藤杯', 5, '京都')\n",
      "(30, '2023-07-01', 'G1', 6, '京都')\n",
      "(31, '2023-07-01', 'G1', 7, '京都')\n",
      "(32, '2023-07-01', '3歳未勝利', 8, '京都')\n",
      "(33, '2023-07-01', '加藤杯', 9, '京都')\n",
      "(34, '2023-07-01', '1勝クラス', 10, '京都')\n",
      "(35, '2023-07-01', 'G1', 11, '京都')\n",
      "(36, '2023-07-01', '3歳未勝利', 12, '京都')\n"
     ]
    }
   ],
   "source": [
    "for row in last_sat_data:\n",
    "    print(row)\n"
   ]
  },
  {
   "cell_type": "code",
   "execution_count": 152,
   "metadata": {},
   "outputs": [],
   "source": [
    "conn.close()"
   ]
  },
  {
   "attachments": {},
   "cell_type": "markdown",
   "metadata": {},
   "source": [
    "**************\n",
    "静的部分のhtml生成"
   ]
  },
  {
   "cell_type": "code",
   "execution_count": 153,
   "metadata": {},
   "outputs": [],
   "source": [
    "html1 = \"\"\"<!DOCTYPE html>\n",
    "<html lang=\"ja\">\n",
    "\n",
    "<head>\n",
    "    <meta charset=\"UTF-8\">\n",
    "    <meta http-equiv=\"X-UA-Compatible\" content=\"IE=edge\">\n",
    "    <meta name=\"viewport\" content=\"width=device-width, initial-scale=1.0\">\n",
    "    <title>\"\"\"\n",
    "    \n",
    "# title\n",
    "\n",
    "html2 = \"\"\"</title>\n",
    "    <link rel=\"stylesheet\" href='css/style.css'>\n",
    "</head>\n",
    "\n",
    "<body>\n",
    "    <header class=\"header\">\n",
    "        <p class=\"weekTitle\">AIによる競馬の結果予想</p>\n",
    "        <div class=\"header-inner\">\n",
    "            <a class=\"header-logo\" href=\"this_sat.html\">\n",
    "                <img id=\"logo-img\" class=\"logo\" src=\"image/katomusume_clear.png\">\n",
    "            </a>    \n",
    "        </div>\n",
    "    </header>\n",
    "    \n",
    "    <div class=\"leftTime\">\n",
    "        <p>\n",
    "            予想結果更新まで残り <span id=\"left_days\"></span>日 <span id=\"left_hours\"></span>時間\n",
    "            <span id=\"left_mins\"></span>分 <span id=\"left_secs\"></span>秒\n",
    "        </p>\n",
    "        <script src=\"js/countdown.js\"></script>\n",
    "    </div>\n",
    "\"\"\"\n",
    "\n",
    "# button\n",
    "# rtOOO or mitei\n",
    "\n",
    "mitei = \"\"\"\n",
    "    <div class=\"mitei\">\n",
    "        <p class=\"notyet\">まだレースの詳細はありません</p>\n",
    "        <img class=\"dogeza\" src=\"image/pose_syazai_man_png\">\n",
    "    </div>\n",
    "\"\"\"\n",
    "\n",
    "html3 = \"\"\"\n",
    "    <footer>\n",
    "        <div class=\"caution\">\n",
    "            <ul>\n",
    "                <li>(注)本サイトはあくまで競馬の結果を予測するものであり、結果を保証するものではありません。</li>\n",
    "                <li>&emsp;&nbsp;&nbsp;&thinsp;本サイトが提供するいかなるサービスを利用したことにより利用者に発生した損害について</li>\n",
    "                <li>&emsp;&nbsp;&nbsp;&thinsp;本サービス提供者は一切賠償責任を負いません。</li>\n",
    "                <li>&emsp;&nbsp;&nbsp;&thinsp;馬券の購入はご自身の判断で行ってください。</li>\n",
    "            </ul>\n",
    "            \n",
    "            <a class=\"returnpage\" href=\"{{ url_for('this_saturday') }}\">\n",
    "                <p>トップページへ</p>\n",
    "            </a>\n",
    "        </div>\n",
    "    </footer>\n",
    "</body>\n",
    "\n",
    "</html>\n",
    "\"\"\""
   ]
  },
  {
   "attachments": {},
   "cell_type": "markdown",
   "metadata": {},
   "source": [
    "***********\n",
    "動的部分"
   ]
  },
  {
   "cell_type": "code",
   "execution_count": 154,
   "metadata": {},
   "outputs": [],
   "source": [
    "title = [\"先週土曜\", \"先週日曜\", \"今週土曜\", \"今週日曜\",]"
   ]
  },
  {
   "cell_type": "code",
   "execution_count": 155,
   "metadata": {},
   "outputs": [],
   "source": [
    "button_last_sat = \"\"\"\n",
    "    <div class=\"dateButtons\">\n",
    "        <div class=\"weekButtons\">\n",
    "            <a class=\"pushed\"><span>先週</span></a>\n",
    "            <a class=\"btn btn-border\" href=\"this_sat.html\"><span>今週</span></a>\n",
    "        </div>\n",
    "\n",
    "        <div class=\"dayButtons\">\n",
    "            <a class=\"pushed\"><span>土曜</span></a>\n",
    "            <a class=\"btn btn-border\" href=\"last_sun.html\"><span>日曜</span></a>\n",
    "        </div>\n",
    "    </div>\n",
    "\"\"\"\n",
    "\n",
    "button_last_sun = \"\"\"\n",
    "    <div class=\"dateButtons\">\n",
    "        <div class=\"weekButtons\">\n",
    "            <a class=\"pushed\"><span>先週</span></a>\n",
    "            <a class=\"btn btn-border\" href=\"this_sun.html\"><span>今週</span></a>\n",
    "        </div>\n",
    "\n",
    "        <div class=\"dayButtons\">\n",
    "            <a class=\"btn btn-border\" href=\"last_sat.html\"><span>土曜</span></a>\n",
    "            <a class=\"pushed\"><span>日曜</span></a>\n",
    "        </div>\n",
    "    </div>\n",
    "\"\"\"\n",
    "\n",
    "button_this_sat = \"\"\"\n",
    "    <div class=\"dateButtons\">\n",
    "        <div class=\"weekButtons\">\n",
    "            <a class=\"btn btn-border\" href=\"last_sat.html\"><span>先週</span></a>\n",
    "            <a class=\"pushed\"><span>今週</span></a>\n",
    "        </div>\n",
    "\n",
    "        <div class=\"dayButtons\">\n",
    "            <a class=\"pushed\"><span>土曜</span></a>\n",
    "            <a class=\"btn btn-border\" href=\"this_sun.html\"><span>日曜</span></a>\n",
    "        </div>\n",
    "    </div>\n",
    "\"\"\"\n",
    "\n",
    "button_this_sun = \"\"\"\n",
    "    <div class=\"dateButtons\">\n",
    "        <div class=\"weekButtons\">\n",
    "            <a class=\"btn btn-border\" href=\"last_sun.html\"><span>先週</span></a>\n",
    "            <a class=\"pushed\"><span>今週</span></a>\n",
    "        </div>\n",
    "\n",
    "        <div class=\"dayButtons\">\n",
    "            <a class=\"btn btn-border\" href=\"this_sat.html\"><span>土曜</span></a>\n",
    "            <a class=\"pushed\"><span>日曜</span></a>\n",
    "        </div>\n",
    "    </div>\n",
    "\"\"\""
   ]
  },
  {
   "cell_type": "code",
   "execution_count": 156,
   "metadata": {},
   "outputs": [],
   "source": [
    "rt_last_sat = \"\"\"\n",
    "<h2 class=\"raceTableTitle\">レース一覧({})</h1>\n",
    "<div class=\"raceTable\">\"\"\".format(last_saturday)\n",
    "\n",
    "location = list(set(row[4] for row in last_sat_data))\n",
    "\n",
    "for loc in location:\n",
    "    for1 = \"\"\"\n",
    "        <ul>\n",
    "        <li class=\"location\">{}</li>\"\"\".format(loc)\n",
    "    for race in last_sat_data:\n",
    "        if race[4] == loc:\n",
    "            racedata = \"\"\"\n",
    "                    <li class=\"'raceData\"><a href=\"result/{}.html\">{}R:{}</a></li>\"\"\".format(race[0],race[3], race[2])\n",
    "            for1 = for1 + racedata\n",
    "    rt_last_sat = rt_last_sat + for1 + \"\"\"\n",
    "        </ul>\"\"\"\n",
    "rt_last_sat = rt_last_sat + \"\"\"\n",
    "</div>\"\"\""
   ]
  },
  {
   "cell_type": "code",
   "execution_count": 157,
   "metadata": {},
   "outputs": [],
   "source": [
    "rt_last_sun = \"\"\"\n",
    "<h2 class=\"raceTableTitle\">レース一覧({})</h1>\n",
    "<div class=\"raceTable\">\"\"\".format(last_sunday)\n",
    "\n",
    "location = list(set(row[4] for row in last_sun_data))\n",
    "\n",
    "for loc in location:\n",
    "    for1 = \"\"\"\n",
    "        <ul>\n",
    "        <li class=\"location\">{}</li>\"\"\".format(loc)\n",
    "    for race in last_sun_data:\n",
    "        if race[4] == loc:\n",
    "            racedata = \"\"\"\n",
    "                    <li class=\"'raceData\"><a href=\"result/{}.html\">{}R:{}</a></li>\"\"\".format(race[0],race[3],race[2])\n",
    "            for1 = for1 + racedata\n",
    "    rt_last_sun = rt_last_sat + for1 + \"\"\"\n",
    "        </ul>\"\"\"\n",
    "rt_last_sun = rt_last_sun + \"\"\"\n",
    "</div>\"\"\""
   ]
  },
  {
   "cell_type": "code",
   "execution_count": 158,
   "metadata": {},
   "outputs": [],
   "source": [
    "rt_this_sat = \"\"\"\n",
    "<h2 class=\"raceTableTitle\">レース一覧({})</h1>\n",
    "<div class=\"raceTable\">\"\"\".format(this_saturday)\n",
    "\n",
    "location = list(set(row[4] for row in this_sat_data))\n",
    "\n",
    "for loc in location:\n",
    "    for1 = \"\"\"\n",
    "        <ul>\n",
    "        <li class=\"location\">{}</li>\"\"\".format(loc)\n",
    "    for race in this_sat_data:\n",
    "        if race[4] == loc:\n",
    "            racedata = \"\"\"\n",
    "                    <li class=\"'raceData\"><a href=\"result/{}.html\">{}R:{}</a></li>\"\"\".format(race[0],race[3],race[2])\n",
    "            for1 = for1 + racedata\n",
    "    rt_this_sat = rt_this_sat + for1 + \"\"\"\n",
    "        </ul>\"\"\"\n",
    "rt_this_sat = rt_this_sat + \"\"\"\n",
    "</div>\"\"\""
   ]
  },
  {
   "cell_type": "code",
   "execution_count": 159,
   "metadata": {},
   "outputs": [],
   "source": [
    "rt_this_sun = \"\"\"\n",
    "<h2 class=\"raceTableTitle\">レース一覧({})</h1>\n",
    "<div class=\"raceTable\">\"\"\".format(this_sunday)\n",
    "\n",
    "location = list(set(row[4] for row in this_sun_data))\n",
    "\n",
    "for loc in location:\n",
    "    for1 = \"\"\"\n",
    "        <ul>\n",
    "        <li class=\"location\">{}</li>\"\"\".format(loc)\n",
    "    for race in this_sun_data:\n",
    "        if race[4] == loc:\n",
    "            racedata = \"\"\"\n",
    "                    <li class=\"'raceData\"><a href=\"result/{}.html\">{}R:{}</a></li>\"\"\".format(race[0],race[3],race[2])\n",
    "            for1 = for1 + racedata\n",
    "    rt_this_sun = rt_this_sun + for1 + \"\"\"\n",
    "        </ul>\"\"\"\n",
    "rt_this_sun = rt_this_sun + \"\"\"\n",
    "</div>\"\"\""
   ]
  },
  {
   "attachments": {},
   "cell_type": "markdown",
   "metadata": {},
   "source": [
    "*********\n",
    "統合"
   ]
  },
  {
   "cell_type": "code",
   "execution_count": 160,
   "metadata": {},
   "outputs": [],
   "source": [
    "last_sat_file = html1 + title[0] + html2 + button_last_sat + \\\n",
    "                (rt_last_sat if len(last_sat_data) > 0 else mitei) \\\n",
    "                + html3\n",
    "                \n",
    "last_sun_file = html1 + title[1] + html2 + button_last_sun +\\\n",
    "                (rt_last_sun if len(last_sun_data) > 0 else mitei) \\\n",
    "                + html3\n",
    "                \n",
    "this_sat_file = html1 + title[2] + html2 + button_this_sat + \\\n",
    "                (rt_this_sat if len(this_sat_data) > 0 else mitei) \\\n",
    "                + html3\n",
    "                \n",
    "this_sun_file = html1 + title[3] + html2 + button_this_sun + \\\n",
    "                (rt_this_sun if len(this_sun_data) > 0 else mitei) \\\n",
    "                + html3"
   ]
  },
  {
   "cell_type": "code",
   "execution_count": 161,
   "metadata": {},
   "outputs": [],
   "source": [
    "with open('src/last_sat.html', 'w', encoding=\"utf-8\") as f:\n",
    "    f.write(last_sat_file)\n",
    "    \n",
    "with open('src/last_sun.html', 'w', encoding=\"utf-8\") as f:\n",
    "    f.write(last_sun_file)\n",
    "    \n",
    "with open('src/this_sat.html', 'w', encoding=\"utf-8\") as f:\n",
    "    f.write(this_sat_file)\n",
    "    \n",
    "with open('src/this_sun.html', 'w', encoding=\"utf-8\") as f:\n",
    "    f.write(this_sun_file)"
   ]
  }
 ],
 "metadata": {
  "kernelspec": {
   "display_name": "Python 3",
   "language": "python",
   "name": "python3"
  },
  "language_info": {
   "codemirror_mode": {
    "name": "ipython",
    "version": 3
   },
   "file_extension": ".py",
   "mimetype": "text/x-python",
   "name": "python",
   "nbconvert_exporter": "python",
   "pygments_lexer": "ipython3",
   "version": "3.11.3"
  },
  "orig_nbformat": 4
 },
 "nbformat": 4,
 "nbformat_minor": 2
}
