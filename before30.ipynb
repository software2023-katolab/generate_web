{
 "cells": [
  {
   "cell_type": "code",
   "execution_count": 26,
   "metadata": {},
   "outputs": [],
   "source": [
    "import sqlite3\n",
    "import pickle\n",
    "import pandas as pd"
   ]
  },
  {
   "cell_type": "code",
   "execution_count": 27,
   "metadata": {},
   "outputs": [],
   "source": [
    "shutuba_table = pd.read_pickle(\"doyou_score\")\n",
    "# shutuba_table.drop(columns=['斤量','jockey_id', 'trainer_id', '体重'\\\n",
    "#                             , '体重変化', 'n_horses', 'course_len', 'weather' \\\n",
    "#                             , 'race_type', 'ground_state', 'around'], inplace=True)"
   ]
  },
  {
   "cell_type": "code",
   "execution_count": 28,
   "metadata": {},
   "outputs": [
    {
     "name": "stdout",
     "output_type": "stream",
     "text": [
      "Index(['枠番', '馬番', '単勝', 'horse_id', '馬名', '騎手名', '性', '体重変化', '年齢', 'date',\n",
      "       'race_class', 'race_name', '開催', 'start_time', 'oddsrank_score',\n",
      "       'speed_score', 'rank1to1_score'],\n",
      "      dtype='object')\n"
     ]
    }
   ],
   "source": [
    "print(shutuba_table.columns)"
   ]
  },
  {
   "cell_type": "code",
   "execution_count": 29,
   "metadata": {},
   "outputs": [],
   "source": [
    "shutuba_table = shutuba_table.astype(str) # 全体を文字列に\n",
    "shutuba_table.reset_index(inplace=True)\n",
    "shutuba_table = shutuba_table.rename(columns={'index': 'race_id'}) # インデックスを列に"
   ]
  },
  {
   "cell_type": "code",
   "execution_count": 30,
   "metadata": {},
   "outputs": [],
   "source": [
    "conn = sqlite3.connect('races.sqlite')\n",
    "cursor = conn.cursor()"
   ]
  },
  {
   "cell_type": "markdown",
   "metadata": {},
   "source": [
    "**********"
   ]
  },
  {
   "cell_type": "markdown",
   "metadata": {},
   "source": [
    "runnersテーブルのodds"
   ]
  },
  {
   "cell_type": "code",
   "execution_count": 31,
   "metadata": {},
   "outputs": [],
   "source": [
    "runner_table = shutuba_table[['race_id', '馬番', '枠番', '騎手名', '単勝', 'horse_id']].copy()\n",
    "# runner_table = shutuba_table[['race_id', '馬番', '枠番', '騎手名', '単勝', 'horse_id']].copy()\n",
    "runner_table.rename(columns={'馬番' : 'number', \n",
    "                             '枠番' : 'position',\n",
    "                             '騎手名' : 'jockey',\n",
    "                             '単勝' : 'odds'}, \n",
    "                  inplace=True)"
   ]
  },
  {
   "cell_type": "code",
   "execution_count": null,
   "metadata": {},
   "outputs": [],
   "source": [
    "# cursor.execute('SELECT * FROM runners')\n",
    "# data = cursor.fetchall()\n",
    "\n",
    "# # データを表示\n",
    "# for row in data:\n",
    "#     print(row)"
   ]
  },
  {
   "cell_type": "code",
   "execution_count": 33,
   "metadata": {},
   "outputs": [],
   "source": [
    "ids = shutuba_table['race_id'].unique()\n",
    "for i in range(ids.shape[0]):\n",
    "    conn.execute(\"DELETE from runners where race_id=?;\", (ids[i],))\n",
    "conn.commit()"
   ]
  },
  {
   "cell_type": "code",
   "execution_count": 34,
   "metadata": {},
   "outputs": [],
   "source": [
    "# 新しいオッズにするために、該当のrace_idのデータを一度すべて消して新しく書き込む\n",
    "for i in range(ids.shape[0]):\n",
    "    new_odds_table = runner_table[runner_table['race_id'] == ids[i]]\n",
    "    new_odds_table.to_sql('runners', conn, if_exists='append', index=None)\n"
   ]
  },
  {
   "cell_type": "markdown",
   "metadata": {},
   "source": [
    "*****************"
   ]
  },
  {
   "cell_type": "markdown",
   "metadata": {},
   "source": [
    "predictsテーブル"
   ]
  },
  {
   "cell_type": "code",
   "execution_count": 35,
   "metadata": {},
   "outputs": [],
   "source": [
    "pred_table = shutuba_table[['race_id', '馬番', 'oddsrank_score', 'rank1to1_score', 'speed_score', '開催']].copy()"
   ]
  },
  {
   "cell_type": "code",
   "execution_count": 36,
   "metadata": {},
   "outputs": [],
   "source": [
    "pred_table.rename(columns={'馬番' : 'runners_number', \n",
    "                           'oddsrank_score' : 'model1',\n",
    "                            'rank1to1_score' : 'model2',\n",
    "                            'speed_score' : 'model3',\n",
    "                        #   'モデル4' : 'model4'\n",
    "                            '開催' : 'model4',}, \n",
    "                  inplace=True)"
   ]
  },
  {
   "cell_type": "code",
   "execution_count": 39,
   "metadata": {},
   "outputs": [
    {
     "data": {
      "text/plain": [
       "479"
      ]
     },
     "execution_count": 39,
     "metadata": {},
     "output_type": "execute_result"
    }
   ],
   "source": [
    "pred_table.to_sql('predicts', conn, if_exists='append', index=None)"
   ]
  },
  {
   "cell_type": "markdown",
   "metadata": {},
   "source": [
    "*************"
   ]
  },
  {
   "cell_type": "code",
   "execution_count": 40,
   "metadata": {},
   "outputs": [],
   "source": [
    "conn.close()"
   ]
  }
 ],
 "metadata": {
  "kernelspec": {
   "display_name": "Python 3",
   "language": "python",
   "name": "python3"
  },
  "language_info": {
   "codemirror_mode": {
    "name": "ipython",
    "version": 3
   },
   "file_extension": ".py",
   "mimetype": "text/x-python",
   "name": "python",
   "nbconvert_exporter": "python",
   "pygments_lexer": "ipython3",
   "version": "3.11.3"
  },
  "orig_nbformat": 4
 },
 "nbformat": 4,
 "nbformat_minor": 2
}
