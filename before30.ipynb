{
 "cells": [
  {
   "cell_type": "code",
   "execution_count": 1,
   "metadata": {},
   "outputs": [],
   "source": [
    "import sqlite3\n",
    "import pickle\n",
    "import pandas as pd"
   ]
  },
  {
   "cell_type": "code",
   "execution_count": null,
   "metadata": {},
   "outputs": [],
   "source": [
    "shutuba_table = pd.read_pickle(\"syutuba_table_test.pickle\")\n",
    "# shutuba_table.drop(columns=['斤量','jockey_id', 'trainer_id', 'トレーナー名', '体重'\\\n",
    "#                             , '体重変化', 'n_horses', 'course_len', 'weather' \\\n",
    "#                             , 'race_type', 'ground_state', 'around'], inplace=True)"
   ]
  },
  {
   "cell_type": "code",
   "execution_count": null,
   "metadata": {},
   "outputs": [],
   "source": [
    "shutuba_table = shutuba_table.astype(str) # 全体を文字列に\n",
    "shutuba_table.reset_index(inplace=True)\n",
    "shutuba_table = shutuba_table.rename(columns={'index': 'race_id'}) # インデックスを列に"
   ]
  },
  {
   "cell_type": "code",
   "execution_count": null,
   "metadata": {},
   "outputs": [],
   "source": [
    "conn = sqlite3.connect('races.sqlite')\n",
    "cursor = conn.cursor()"
   ]
  },
  {
   "cell_type": "markdown",
   "metadata": {},
   "source": [
    "**********"
   ]
  },
  {
   "cell_type": "markdown",
   "metadata": {},
   "source": [
    "runnersテーブルのodds"
   ]
  },
  {
   "cell_type": "code",
   "execution_count": null,
   "metadata": {},
   "outputs": [],
   "source": [
    "runner_table = shutuba_table[['race_id', '馬番', '枠番', '騎手名', '単勝', 'horse_id']].copy()\n",
    "runner_table.rename(columns={'馬番' : 'number', \n",
    "                             '枠番' : 'position',\n",
    "                             '騎手名' : 'jockey',\n",
    "                             '単勝' : 'odds'}, \n",
    "                  inplace=True)"
   ]
  },
  {
   "cell_type": "code",
   "execution_count": null,
   "metadata": {},
   "outputs": [],
   "source": [
    "# 新しいオッズにするために、該当のrace_idのデータを一度すべて消して新しく書き込む\n",
    "ids = shutuba_table['race_id'].unipue()\n",
    "for i in range(ids.shape[0]):\n",
    "    conn.execute(\"DELETE from runners where race_id= ? \", (ids[i:0]))\n",
    "    new_odds_table = runner_table[runner_table['race_id'] == ids[i:0]]\n",
    "    new_odds_table.to_sql('runners', conn, if_exists='append', index=None)"
   ]
  },
  {
   "cell_type": "markdown",
   "metadata": {},
   "source": [
    "*****************"
   ]
  },
  {
   "cell_type": "markdown",
   "metadata": {},
   "source": [
    "predictsテーブル"
   ]
  },
  {
   "cell_type": "code",
   "execution_count": null,
   "metadata": {},
   "outputs": [],
   "source": [
    "pred_table = shutuba_table[['race_id', '馬番', 'score1', 'score2', 'score3', 'score4']].copy()"
   ]
  },
  {
   "cell_type": "code",
   "execution_count": null,
   "metadata": {},
   "outputs": [],
   "source": [
    "pred_table.rename(columns={'馬番' : 'runners_number', \n",
    "                           'score1' : 'model1',\n",
    "                            'score2' : 'model2',\n",
    "                            'score3' : 'model3',\n",
    "                            'score4' : 'model4',}, \n",
    "                  inplace=True)"
   ]
  },
  {
   "cell_type": "code",
   "execution_count": null,
   "metadata": {},
   "outputs": [],
   "source": [
    "pred_table.to_sql('predicts', conn, if_exists='append', index=None)"
   ]
  },
  {
   "cell_type": "markdown",
   "metadata": {},
   "source": [
    "*************"
   ]
  },
  {
   "cell_type": "code",
   "execution_count": null,
   "metadata": {},
   "outputs": [],
   "source": [
    "conn.close()"
   ]
  }
 ],
 "metadata": {
  "kernelspec": {
   "display_name": "Python 3",
   "language": "python",
   "name": "python3"
  },
  "language_info": {
   "codemirror_mode": {
    "name": "ipython",
    "version": 3
   },
   "file_extension": ".py",
   "mimetype": "text/x-python",
   "name": "python",
   "nbconvert_exporter": "python",
   "pygments_lexer": "ipython3",
   "version": "3.11.3"
  },
  "orig_nbformat": 4
 },
 "nbformat": 4,
 "nbformat_minor": 2
}
